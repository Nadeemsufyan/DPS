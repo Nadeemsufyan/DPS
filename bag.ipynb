{
 "cells": [
  {
   "cell_type": "code",
   "execution_count": 1,
   "id": "96f7850f-9401-4f4a-9f25-936946e1e300",
   "metadata": {},
   "outputs": [
    {
     "name": "stderr",
     "output_type": "stream",
     "text": [
      "C:\\Users\\test.DESKTOP-ODO5P7A\\anaconda3\\Lib\\site-packages\\distributed\\node.py:182: UserWarning: Port 8787 is already in use.\n",
      "Perhaps you already have a cluster running?\n",
      "Hosting the HTTP server on port 1510 instead\n",
      "  warnings.warn(\n"
     ]
    },
    {
     "data": {
      "text/html": [
       "<div>\n",
       "    <div style=\"width: 24px; height: 24px; background-color: #e1e1e1; border: 3px solid #9D9D9D; border-radius: 5px; position: absolute;\"> </div>\n",
       "    <div style=\"margin-left: 48px;\">\n",
       "        <h3 style=\"margin-bottom: 0px;\">Client</h3>\n",
       "        <p style=\"color: #9D9D9D; margin-bottom: 0px;\">Client-85bc92ef-6fb8-11ef-b34c-509a4c579eff</p>\n",
       "        <table style=\"width: 100%; text-align: left;\">\n",
       "\n",
       "        <tr>\n",
       "        \n",
       "            <td style=\"text-align: left;\"><strong>Connection method:</strong> Cluster object</td>\n",
       "            <td style=\"text-align: left;\"><strong>Cluster type:</strong> distributed.LocalCluster</td>\n",
       "        \n",
       "        </tr>\n",
       "\n",
       "        \n",
       "            <tr>\n",
       "                <td style=\"text-align: left;\">\n",
       "                    <strong>Dashboard: </strong> <a href=\"http://127.0.0.1:1510/status\" target=\"_blank\">http://127.0.0.1:1510/status</a>\n",
       "                </td>\n",
       "                <td style=\"text-align: left;\"></td>\n",
       "            </tr>\n",
       "        \n",
       "\n",
       "        </table>\n",
       "\n",
       "        \n",
       "\n",
       "        \n",
       "            <details>\n",
       "            <summary style=\"margin-bottom: 20px;\"><h3 style=\"display: inline;\">Cluster Info</h3></summary>\n",
       "            <div class=\"jp-RenderedHTMLCommon jp-RenderedHTML jp-mod-trusted jp-OutputArea-output\">\n",
       "    <div style=\"width: 24px; height: 24px; background-color: #e1e1e1; border: 3px solid #9D9D9D; border-radius: 5px; position: absolute;\">\n",
       "    </div>\n",
       "    <div style=\"margin-left: 48px;\">\n",
       "        <h3 style=\"margin-bottom: 0px; margin-top: 0px;\">LocalCluster</h3>\n",
       "        <p style=\"color: #9D9D9D; margin-bottom: 0px;\">ab4abf7f</p>\n",
       "        <table style=\"width: 100%; text-align: left;\">\n",
       "            <tr>\n",
       "                <td style=\"text-align: left;\">\n",
       "                    <strong>Dashboard:</strong> <a href=\"http://127.0.0.1:1510/status\" target=\"_blank\">http://127.0.0.1:1510/status</a>\n",
       "                </td>\n",
       "                <td style=\"text-align: left;\">\n",
       "                    <strong>Workers:</strong> 4\n",
       "                </td>\n",
       "            </tr>\n",
       "            <tr>\n",
       "                <td style=\"text-align: left;\">\n",
       "                    <strong>Total threads:</strong> 4\n",
       "                </td>\n",
       "                <td style=\"text-align: left;\">\n",
       "                    <strong>Total memory:</strong> 63.92 GiB\n",
       "                </td>\n",
       "            </tr>\n",
       "            \n",
       "            <tr>\n",
       "    <td style=\"text-align: left;\"><strong>Status:</strong> running</td>\n",
       "    <td style=\"text-align: left;\"><strong>Using processes:</strong> True</td>\n",
       "</tr>\n",
       "\n",
       "            \n",
       "        </table>\n",
       "\n",
       "        <details>\n",
       "            <summary style=\"margin-bottom: 20px;\">\n",
       "                <h3 style=\"display: inline;\">Scheduler Info</h3>\n",
       "            </summary>\n",
       "\n",
       "            <div style=\"\">\n",
       "    <div>\n",
       "        <div style=\"width: 24px; height: 24px; background-color: #FFF7E5; border: 3px solid #FF6132; border-radius: 5px; position: absolute;\"> </div>\n",
       "        <div style=\"margin-left: 48px;\">\n",
       "            <h3 style=\"margin-bottom: 0px;\">Scheduler</h3>\n",
       "            <p style=\"color: #9D9D9D; margin-bottom: 0px;\">Scheduler-6fc2e345-73d2-4d56-bbc9-0fdea86d92c4</p>\n",
       "            <table style=\"width: 100%; text-align: left;\">\n",
       "                <tr>\n",
       "                    <td style=\"text-align: left;\">\n",
       "                        <strong>Comm:</strong> tcp://127.0.0.1:1511\n",
       "                    </td>\n",
       "                    <td style=\"text-align: left;\">\n",
       "                        <strong>Workers:</strong> 4\n",
       "                    </td>\n",
       "                </tr>\n",
       "                <tr>\n",
       "                    <td style=\"text-align: left;\">\n",
       "                        <strong>Dashboard:</strong> <a href=\"http://127.0.0.1:1510/status\" target=\"_blank\">http://127.0.0.1:1510/status</a>\n",
       "                    </td>\n",
       "                    <td style=\"text-align: left;\">\n",
       "                        <strong>Total threads:</strong> 4\n",
       "                    </td>\n",
       "                </tr>\n",
       "                <tr>\n",
       "                    <td style=\"text-align: left;\">\n",
       "                        <strong>Started:</strong> Just now\n",
       "                    </td>\n",
       "                    <td style=\"text-align: left;\">\n",
       "                        <strong>Total memory:</strong> 63.92 GiB\n",
       "                    </td>\n",
       "                </tr>\n",
       "            </table>\n",
       "        </div>\n",
       "    </div>\n",
       "\n",
       "    <details style=\"margin-left: 48px;\">\n",
       "        <summary style=\"margin-bottom: 20px;\">\n",
       "            <h3 style=\"display: inline;\">Workers</h3>\n",
       "        </summary>\n",
       "\n",
       "        \n",
       "        <div style=\"margin-bottom: 20px;\">\n",
       "            <div style=\"width: 24px; height: 24px; background-color: #DBF5FF; border: 3px solid #4CC9FF; border-radius: 5px; position: absolute;\"> </div>\n",
       "            <div style=\"margin-left: 48px;\">\n",
       "            <details>\n",
       "                <summary>\n",
       "                    <h4 style=\"margin-bottom: 0px; display: inline;\">Worker: 0</h4>\n",
       "                </summary>\n",
       "                <table style=\"width: 100%; text-align: left;\">\n",
       "                    <tr>\n",
       "                        <td style=\"text-align: left;\">\n",
       "                            <strong>Comm: </strong> tcp://127.0.0.1:1526\n",
       "                        </td>\n",
       "                        <td style=\"text-align: left;\">\n",
       "                            <strong>Total threads: </strong> 1\n",
       "                        </td>\n",
       "                    </tr>\n",
       "                    <tr>\n",
       "                        <td style=\"text-align: left;\">\n",
       "                            <strong>Dashboard: </strong> <a href=\"http://127.0.0.1:1533/status\" target=\"_blank\">http://127.0.0.1:1533/status</a>\n",
       "                        </td>\n",
       "                        <td style=\"text-align: left;\">\n",
       "                            <strong>Memory: </strong> 15.98 GiB\n",
       "                        </td>\n",
       "                    </tr>\n",
       "                    <tr>\n",
       "                        <td style=\"text-align: left;\">\n",
       "                            <strong>Nanny: </strong> tcp://127.0.0.1:1514\n",
       "                        </td>\n",
       "                        <td style=\"text-align: left;\"></td>\n",
       "                    </tr>\n",
       "                    <tr>\n",
       "                        <td colspan=\"2\" style=\"text-align: left;\">\n",
       "                            <strong>Local directory: </strong> C:\\Users\\TEST~1.DES\\AppData\\Local\\Temp\\dask-scratch-space\\worker-nbijqpwa\n",
       "                        </td>\n",
       "                    </tr>\n",
       "\n",
       "                    \n",
       "\n",
       "                    \n",
       "\n",
       "                </table>\n",
       "            </details>\n",
       "            </div>\n",
       "        </div>\n",
       "        \n",
       "        <div style=\"margin-bottom: 20px;\">\n",
       "            <div style=\"width: 24px; height: 24px; background-color: #DBF5FF; border: 3px solid #4CC9FF; border-radius: 5px; position: absolute;\"> </div>\n",
       "            <div style=\"margin-left: 48px;\">\n",
       "            <details>\n",
       "                <summary>\n",
       "                    <h4 style=\"margin-bottom: 0px; display: inline;\">Worker: 1</h4>\n",
       "                </summary>\n",
       "                <table style=\"width: 100%; text-align: left;\">\n",
       "                    <tr>\n",
       "                        <td style=\"text-align: left;\">\n",
       "                            <strong>Comm: </strong> tcp://127.0.0.1:1532\n",
       "                        </td>\n",
       "                        <td style=\"text-align: left;\">\n",
       "                            <strong>Total threads: </strong> 1\n",
       "                        </td>\n",
       "                    </tr>\n",
       "                    <tr>\n",
       "                        <td style=\"text-align: left;\">\n",
       "                            <strong>Dashboard: </strong> <a href=\"http://127.0.0.1:1544/status\" target=\"_blank\">http://127.0.0.1:1544/status</a>\n",
       "                        </td>\n",
       "                        <td style=\"text-align: left;\">\n",
       "                            <strong>Memory: </strong> 15.98 GiB\n",
       "                        </td>\n",
       "                    </tr>\n",
       "                    <tr>\n",
       "                        <td style=\"text-align: left;\">\n",
       "                            <strong>Nanny: </strong> tcp://127.0.0.1:1516\n",
       "                        </td>\n",
       "                        <td style=\"text-align: left;\"></td>\n",
       "                    </tr>\n",
       "                    <tr>\n",
       "                        <td colspan=\"2\" style=\"text-align: left;\">\n",
       "                            <strong>Local directory: </strong> C:\\Users\\TEST~1.DES\\AppData\\Local\\Temp\\dask-scratch-space\\worker-9gqmbp4t\n",
       "                        </td>\n",
       "                    </tr>\n",
       "\n",
       "                    \n",
       "\n",
       "                    \n",
       "\n",
       "                </table>\n",
       "            </details>\n",
       "            </div>\n",
       "        </div>\n",
       "        \n",
       "        <div style=\"margin-bottom: 20px;\">\n",
       "            <div style=\"width: 24px; height: 24px; background-color: #DBF5FF; border: 3px solid #4CC9FF; border-radius: 5px; position: absolute;\"> </div>\n",
       "            <div style=\"margin-left: 48px;\">\n",
       "            <details>\n",
       "                <summary>\n",
       "                    <h4 style=\"margin-bottom: 0px; display: inline;\">Worker: 2</h4>\n",
       "                </summary>\n",
       "                <table style=\"width: 100%; text-align: left;\">\n",
       "                    <tr>\n",
       "                        <td style=\"text-align: left;\">\n",
       "                            <strong>Comm: </strong> tcp://127.0.0.1:1531\n",
       "                        </td>\n",
       "                        <td style=\"text-align: left;\">\n",
       "                            <strong>Total threads: </strong> 1\n",
       "                        </td>\n",
       "                    </tr>\n",
       "                    <tr>\n",
       "                        <td style=\"text-align: left;\">\n",
       "                            <strong>Dashboard: </strong> <a href=\"http://127.0.0.1:1535/status\" target=\"_blank\">http://127.0.0.1:1535/status</a>\n",
       "                        </td>\n",
       "                        <td style=\"text-align: left;\">\n",
       "                            <strong>Memory: </strong> 15.98 GiB\n",
       "                        </td>\n",
       "                    </tr>\n",
       "                    <tr>\n",
       "                        <td style=\"text-align: left;\">\n",
       "                            <strong>Nanny: </strong> tcp://127.0.0.1:1518\n",
       "                        </td>\n",
       "                        <td style=\"text-align: left;\"></td>\n",
       "                    </tr>\n",
       "                    <tr>\n",
       "                        <td colspan=\"2\" style=\"text-align: left;\">\n",
       "                            <strong>Local directory: </strong> C:\\Users\\TEST~1.DES\\AppData\\Local\\Temp\\dask-scratch-space\\worker-bxh8meez\n",
       "                        </td>\n",
       "                    </tr>\n",
       "\n",
       "                    \n",
       "\n",
       "                    \n",
       "\n",
       "                </table>\n",
       "            </details>\n",
       "            </div>\n",
       "        </div>\n",
       "        \n",
       "        <div style=\"margin-bottom: 20px;\">\n",
       "            <div style=\"width: 24px; height: 24px; background-color: #DBF5FF; border: 3px solid #4CC9FF; border-radius: 5px; position: absolute;\"> </div>\n",
       "            <div style=\"margin-left: 48px;\">\n",
       "            <details>\n",
       "                <summary>\n",
       "                    <h4 style=\"margin-bottom: 0px; display: inline;\">Worker: 3</h4>\n",
       "                </summary>\n",
       "                <table style=\"width: 100%; text-align: left;\">\n",
       "                    <tr>\n",
       "                        <td style=\"text-align: left;\">\n",
       "                            <strong>Comm: </strong> tcp://127.0.0.1:1546\n",
       "                        </td>\n",
       "                        <td style=\"text-align: left;\">\n",
       "                            <strong>Total threads: </strong> 1\n",
       "                        </td>\n",
       "                    </tr>\n",
       "                    <tr>\n",
       "                        <td style=\"text-align: left;\">\n",
       "                            <strong>Dashboard: </strong> <a href=\"http://127.0.0.1:1547/status\" target=\"_blank\">http://127.0.0.1:1547/status</a>\n",
       "                        </td>\n",
       "                        <td style=\"text-align: left;\">\n",
       "                            <strong>Memory: </strong> 15.98 GiB\n",
       "                        </td>\n",
       "                    </tr>\n",
       "                    <tr>\n",
       "                        <td style=\"text-align: left;\">\n",
       "                            <strong>Nanny: </strong> tcp://127.0.0.1:1520\n",
       "                        </td>\n",
       "                        <td style=\"text-align: left;\"></td>\n",
       "                    </tr>\n",
       "                    <tr>\n",
       "                        <td colspan=\"2\" style=\"text-align: left;\">\n",
       "                            <strong>Local directory: </strong> C:\\Users\\TEST~1.DES\\AppData\\Local\\Temp\\dask-scratch-space\\worker-8shgt99u\n",
       "                        </td>\n",
       "                    </tr>\n",
       "\n",
       "                    \n",
       "\n",
       "                    \n",
       "\n",
       "                </table>\n",
       "            </details>\n",
       "            </div>\n",
       "        </div>\n",
       "        \n",
       "\n",
       "    </details>\n",
       "</div>\n",
       "\n",
       "        </details>\n",
       "    </div>\n",
       "</div>\n",
       "            </details>\n",
       "        \n",
       "\n",
       "    </div>\n",
       "</div>"
      ],
      "text/plain": [
       "<Client: 'tcp://127.0.0.1:1511' processes=4 threads=4, memory=63.92 GiB>"
      ]
     },
     "execution_count": 1,
     "metadata": {},
     "output_type": "execute_result"
    }
   ],
   "source": [
    "from dask.distributed import Client, progress\n",
    "client = Client(n_workers=4, threads_per_worker=1)\n",
    "client"
   ]
  },
  {
   "cell_type": "code",
   "execution_count": 2,
   "id": "c9c0410b-26e9-48d5-9bb2-dad4437a0391",
   "metadata": {},
   "outputs": [
    {
     "ename": "RuntimeError",
     "evalue": "The mimesis module is required for this function.  Try:\n  python -m pip install mimesis",
     "output_type": "error",
     "traceback": [
      "\u001b[1;31m---------------------------------------------------------------------------\u001b[0m",
      "\u001b[1;31mModuleNotFoundError\u001b[0m                       Traceback (most recent call last)",
      "File \u001b[1;32m~\\anaconda3\\Lib\\site-packages\\dask\\utils.py:327\u001b[0m, in \u001b[0;36mimport_required\u001b[1;34m(mod_name, error_msg)\u001b[0m\n\u001b[0;32m    326\u001b[0m \u001b[38;5;28;01mtry\u001b[39;00m:\n\u001b[1;32m--> 327\u001b[0m     \u001b[38;5;28;01mreturn\u001b[39;00m import_module(mod_name)\n\u001b[0;32m    328\u001b[0m \u001b[38;5;28;01mexcept\u001b[39;00m \u001b[38;5;167;01mImportError\u001b[39;00m \u001b[38;5;28;01mas\u001b[39;00m e:\n",
      "File \u001b[1;32m~\\anaconda3\\Lib\\importlib\\__init__.py:90\u001b[0m, in \u001b[0;36mimport_module\u001b[1;34m(name, package)\u001b[0m\n\u001b[0;32m     89\u001b[0m         level \u001b[38;5;241m+\u001b[39m\u001b[38;5;241m=\u001b[39m \u001b[38;5;241m1\u001b[39m\n\u001b[1;32m---> 90\u001b[0m \u001b[38;5;28;01mreturn\u001b[39;00m _bootstrap\u001b[38;5;241m.\u001b[39m_gcd_import(name[level:], package, level)\n",
      "File \u001b[1;32m<frozen importlib._bootstrap>:1387\u001b[0m, in \u001b[0;36m_gcd_import\u001b[1;34m(name, package, level)\u001b[0m\n",
      "File \u001b[1;32m<frozen importlib._bootstrap>:1360\u001b[0m, in \u001b[0;36m_find_and_load\u001b[1;34m(name, import_)\u001b[0m\n",
      "File \u001b[1;32m<frozen importlib._bootstrap>:1324\u001b[0m, in \u001b[0;36m_find_and_load_unlocked\u001b[1;34m(name, import_)\u001b[0m\n",
      "\u001b[1;31mModuleNotFoundError\u001b[0m: No module named 'mimesis'",
      "\nThe above exception was the direct cause of the following exception:\n",
      "\u001b[1;31mRuntimeError\u001b[0m                              Traceback (most recent call last)",
      "Cell \u001b[1;32mIn[2], line 7\u001b[0m\n\u001b[0;32m      3\u001b[0m \u001b[38;5;28;01mimport\u001b[39;00m \u001b[38;5;21;01mos\u001b[39;00m\n\u001b[0;32m      5\u001b[0m os\u001b[38;5;241m.\u001b[39mmakedirs(\u001b[38;5;124m'\u001b[39m\u001b[38;5;124mdata\u001b[39m\u001b[38;5;124m'\u001b[39m, exist_ok\u001b[38;5;241m=\u001b[39m\u001b[38;5;28;01mTrue\u001b[39;00m)              \u001b[38;5;66;03m# Create data/ directory\u001b[39;00m\n\u001b[1;32m----> 7\u001b[0m b \u001b[38;5;241m=\u001b[39m dask\u001b[38;5;241m.\u001b[39mdatasets\u001b[38;5;241m.\u001b[39mmake_people()                 \u001b[38;5;66;03m# Make records of people\u001b[39;00m\n\u001b[0;32m      8\u001b[0m b\u001b[38;5;241m.\u001b[39mmap(json\u001b[38;5;241m.\u001b[39mdumps)\u001b[38;5;241m.\u001b[39mto_textfiles(\u001b[38;5;124m'\u001b[39m\u001b[38;5;124mdata/*.json\u001b[39m\u001b[38;5;124m'\u001b[39m)\n",
      "File \u001b[1;32m~\\anaconda3\\Lib\\site-packages\\dask\\datasets.py:159\u001b[0m, in \u001b[0;36mmake_people\u001b[1;34m(npartitions, records_per_partition, seed, locale)\u001b[0m\n\u001b[0;32m    138\u001b[0m \u001b[38;5;28;01mdef\u001b[39;00m \u001b[38;5;21mmake_people\u001b[39m(npartitions\u001b[38;5;241m=\u001b[39m\u001b[38;5;241m10\u001b[39m, records_per_partition\u001b[38;5;241m=\u001b[39m\u001b[38;5;241m1000\u001b[39m, seed\u001b[38;5;241m=\u001b[39m\u001b[38;5;28;01mNone\u001b[39;00m, locale\u001b[38;5;241m=\u001b[39m\u001b[38;5;124m\"\u001b[39m\u001b[38;5;124men\u001b[39m\u001b[38;5;124m\"\u001b[39m):\n\u001b[0;32m    139\u001b[0m \u001b[38;5;250m    \u001b[39m\u001b[38;5;124;03m\"\"\"Make a dataset of random people\u001b[39;00m\n\u001b[0;32m    140\u001b[0m \n\u001b[0;32m    141\u001b[0m \u001b[38;5;124;03m    This makes a Dask Bag with dictionary records of randomly generated people.\u001b[39;00m\n\u001b[1;32m   (...)\u001b[0m\n\u001b[0;32m    157\u001b[0m \u001b[38;5;124;03m    b: Dask Bag\u001b[39;00m\n\u001b[0;32m    158\u001b[0m \u001b[38;5;124;03m    \"\"\"\u001b[39;00m\n\u001b[1;32m--> 159\u001b[0m     import_required(\n\u001b[0;32m    160\u001b[0m         \u001b[38;5;124m\"\u001b[39m\u001b[38;5;124mmimesis\u001b[39m\u001b[38;5;124m\"\u001b[39m,\n\u001b[0;32m    161\u001b[0m         \u001b[38;5;124m\"\u001b[39m\u001b[38;5;124mThe mimesis module is required for this function.  Try:\u001b[39m\u001b[38;5;130;01m\\n\u001b[39;00m\u001b[38;5;124m\"\u001b[39m\n\u001b[0;32m    162\u001b[0m         \u001b[38;5;124m\"\u001b[39m\u001b[38;5;124m  python -m pip install mimesis\u001b[39m\u001b[38;5;124m\"\u001b[39m,\n\u001b[0;32m    163\u001b[0m     )\n\u001b[0;32m    165\u001b[0m     schema \u001b[38;5;241m=\u001b[39m \u001b[38;5;28;01mlambda\u001b[39;00m field: {\n\u001b[0;32m    166\u001b[0m         \u001b[38;5;124m\"\u001b[39m\u001b[38;5;124mage\u001b[39m\u001b[38;5;124m\"\u001b[39m: field(\u001b[38;5;124m\"\u001b[39m\u001b[38;5;124mrandom.randint\u001b[39m\u001b[38;5;124m\"\u001b[39m, a\u001b[38;5;241m=\u001b[39m\u001b[38;5;241m0\u001b[39m, b\u001b[38;5;241m=\u001b[39m\u001b[38;5;241m120\u001b[39m),\n\u001b[0;32m    167\u001b[0m         \u001b[38;5;124m\"\u001b[39m\u001b[38;5;124mname\u001b[39m\u001b[38;5;124m\"\u001b[39m: (field(\u001b[38;5;124m\"\u001b[39m\u001b[38;5;124mperson.name\u001b[39m\u001b[38;5;124m\"\u001b[39m), field(\u001b[38;5;124m\"\u001b[39m\u001b[38;5;124mperson.surname\u001b[39m\u001b[38;5;124m\"\u001b[39m)),\n\u001b[1;32m   (...)\u001b[0m\n\u001b[0;32m    174\u001b[0m         },\n\u001b[0;32m    175\u001b[0m     }\n\u001b[0;32m    177\u001b[0m     \u001b[38;5;28;01mreturn\u001b[39;00m _make_mimesis(\n\u001b[0;32m    178\u001b[0m         {\u001b[38;5;124m\"\u001b[39m\u001b[38;5;124mlocale\u001b[39m\u001b[38;5;124m\"\u001b[39m: locale}, schema, npartitions, records_per_partition, seed\n\u001b[0;32m    179\u001b[0m     )\n",
      "File \u001b[1;32m~\\anaconda3\\Lib\\site-packages\\dask\\utils.py:329\u001b[0m, in \u001b[0;36mimport_required\u001b[1;34m(mod_name, error_msg)\u001b[0m\n\u001b[0;32m    327\u001b[0m     \u001b[38;5;28;01mreturn\u001b[39;00m import_module(mod_name)\n\u001b[0;32m    328\u001b[0m \u001b[38;5;28;01mexcept\u001b[39;00m \u001b[38;5;167;01mImportError\u001b[39;00m \u001b[38;5;28;01mas\u001b[39;00m e:\n\u001b[1;32m--> 329\u001b[0m     \u001b[38;5;28;01mraise\u001b[39;00m \u001b[38;5;167;01mRuntimeError\u001b[39;00m(error_msg) \u001b[38;5;28;01mfrom\u001b[39;00m \u001b[38;5;21;01me\u001b[39;00m\n",
      "\u001b[1;31mRuntimeError\u001b[0m: The mimesis module is required for this function.  Try:\n  python -m pip install mimesis"
     ]
    }
   ],
   "source": [
    "import dask\n",
    "import json\n",
    "import os\n",
    "\n",
    "os.makedirs('data', exist_ok=True)              # Create data/ directory\n",
    "\n",
    "b = dask.datasets.make_people()                 # Make records of people\n",
    "b.map(json.dumps).to_textfiles('data/*.json')   # Encode as JSON, write to disk\n",
    "\n"
   ]
  },
  {
   "cell_type": "code",
   "execution_count": 3,
   "id": "4e2678e0-68c2-44f8-9a12-0b1172300a5f",
   "metadata": {},
   "outputs": [
    {
     "name": "stderr",
     "output_type": "stream",
     "text": [
      "'head' is not recognized as an internal or external command,\n",
      "operable program or batch file.\n"
     ]
    }
   ],
   "source": [
    "!head -n 2 data/0.json"
   ]
  },
  {
   "cell_type": "code",
   "execution_count": 4,
   "id": "833dedc0-e1bc-499b-8bbf-a61ea7fef380",
   "metadata": {},
   "outputs": [
    {
     "data": {
      "text/plain": [
       "dask.bag<loads, npartitions=40>"
      ]
     },
     "execution_count": 4,
     "metadata": {},
     "output_type": "execute_result"
    }
   ],
   "source": [
    "import dask.bag as db\n",
    "import json\n",
    "b = db.read_text('data/*.json').map(json.loads)\n",
    "b"
   ]
  },
  {
   "cell_type": "code",
   "execution_count": 5,
   "id": "43d47789-e22c-41bb-915a-5e92af141612",
   "metadata": {},
   "outputs": [
    {
     "data": {
      "text/plain": [
       "({'age': 73,\n",
       "  'name': ['Ezekiel', 'Woodard'],\n",
       "  'occupation': 'Yard Manager',\n",
       "  'telephone': '+1-331-365-4996',\n",
       "  'address': {'address': '1177 Arballo Gardens', 'city': 'Passaic'},\n",
       "  'credit-card': {'number': '3439 860587 17055', 'expiration-date': '06/21'}},\n",
       " {'age': 2,\n",
       "  'name': ['Maire', 'Sharp'],\n",
       "  'occupation': 'Pipe Insulator',\n",
       "  'telephone': '+15862379883',\n",
       "  'address': {'address': '1151 Rausch Avenue', 'city': 'Jeffersontown'},\n",
       "  'credit-card': {'number': '3794 644559 58638', 'expiration-date': '08/22'}})"
      ]
     },
     "execution_count": 5,
     "metadata": {},
     "output_type": "execute_result"
    }
   ],
   "source": [
    "b.take(2)"
   ]
  },
  {
   "cell_type": "code",
   "execution_count": 6,
   "id": "2dd095f6-3ec4-4e4b-8a0b-291eef57d985",
   "metadata": {},
   "outputs": [
    {
     "data": {
      "text/plain": [
       "({'age': 73,\n",
       "  'name': ['Ezekiel', 'Woodard'],\n",
       "  'occupation': 'Yard Manager',\n",
       "  'telephone': '+1-331-365-4996',\n",
       "  'address': {'address': '1177 Arballo Gardens', 'city': 'Passaic'},\n",
       "  'credit-card': {'number': '3439 860587 17055', 'expiration-date': '06/21'}},\n",
       " {'age': 75,\n",
       "  'name': ['Tiffaney', 'Potts'],\n",
       "  'occupation': 'Interior Designer',\n",
       "  'telephone': '+1-928-475-0361',\n",
       "  'address': {'address': '989 Acorn Manor', 'city': 'Holladay'},\n",
       "  'credit-card': {'number': '5404 2959 7288 5096',\n",
       "   'expiration-date': '12/22'}})"
      ]
     },
     "execution_count": 6,
     "metadata": {},
     "output_type": "execute_result"
    }
   ],
   "source": [
    "b.filter(lambda record: record['age'] > 30).take(2)\n",
    "# Select only people over 30"
   ]
  },
  {
   "cell_type": "code",
   "execution_count": 7,
   "id": "645e4110-7d43-41bd-b64a-638b5d171952",
   "metadata": {},
   "outputs": [
    {
     "data": {
      "text/plain": [
       "('Yard Manager', 'Pipe Insulator')"
      ]
     },
     "execution_count": 7,
     "metadata": {},
     "output_type": "execute_result"
    }
   ],
   "source": [
    "b.map(lambda record: record['occupation']).take(2)\n",
    "# Select the occupation field"
   ]
  },
  {
   "cell_type": "code",
   "execution_count": 8,
   "id": "f5982a02-8041-4e2c-9bd3-4f2295dfcf50",
   "metadata": {},
   "outputs": [
    {
     "data": {
      "text/plain": [
       "dask.bag<topk-aggregate, npartitions=1>"
      ]
     },
     "execution_count": 8,
     "metadata": {},
     "output_type": "execute_result"
    }
   ],
   "source": [
    "result = (b.filter(lambda record: record['age'] > 30)\n",
    ".map(lambda record: record['occupation'])\n",
    ".frequencies(sort= True)\n",
    ".topk(10, key=1))\n",
    "result"
   ]
  },
  {
   "cell_type": "code",
   "execution_count": 9,
   "id": "0616ef4f-5fae-45a0-9807-9972e7a3dcec",
   "metadata": {},
   "outputs": [
    {
     "data": {
      "text/plain": [
       "[('Forensic Scientist', 52),\n",
       " ('Judge', 52),\n",
       " ('Training Manager', 52),\n",
       " ('Bookmaker', 48),\n",
       " ('Homeworker', 48),\n",
       " ('Licensee', 46),\n",
       " ('Town Clerk', 46),\n",
       " ('Hot Foil Printer', 46),\n",
       " ('Picture Editor', 46),\n",
       " ('Lighthouse Keeper', 46)]"
      ]
     },
     "execution_count": 9,
     "metadata": {},
     "output_type": "execute_result"
    }
   ],
   "source": [
    "result.compute()"
   ]
  },
  {
   "cell_type": "code",
   "execution_count": 10,
   "id": "390b363f-3b6a-419f-b7f6-085f45529e41",
   "metadata": {},
   "outputs": [
    {
     "data": {
      "text/plain": [
       "['C:/Users/test.DESKTOP-ODO5P7A/Desktop/DASK Example/data/processed.00.json',\n",
       " 'C:/Users/test.DESKTOP-ODO5P7A/Desktop/DASK Example/data/processed.01.json',\n",
       " 'C:/Users/test.DESKTOP-ODO5P7A/Desktop/DASK Example/data/processed.02.json',\n",
       " 'C:/Users/test.DESKTOP-ODO5P7A/Desktop/DASK Example/data/processed.03.json',\n",
       " 'C:/Users/test.DESKTOP-ODO5P7A/Desktop/DASK Example/data/processed.04.json',\n",
       " 'C:/Users/test.DESKTOP-ODO5P7A/Desktop/DASK Example/data/processed.05.json',\n",
       " 'C:/Users/test.DESKTOP-ODO5P7A/Desktop/DASK Example/data/processed.06.json',\n",
       " 'C:/Users/test.DESKTOP-ODO5P7A/Desktop/DASK Example/data/processed.07.json',\n",
       " 'C:/Users/test.DESKTOP-ODO5P7A/Desktop/DASK Example/data/processed.08.json',\n",
       " 'C:/Users/test.DESKTOP-ODO5P7A/Desktop/DASK Example/data/processed.09.json',\n",
       " 'C:/Users/test.DESKTOP-ODO5P7A/Desktop/DASK Example/data/processed.10.json',\n",
       " 'C:/Users/test.DESKTOP-ODO5P7A/Desktop/DASK Example/data/processed.11.json',\n",
       " 'C:/Users/test.DESKTOP-ODO5P7A/Desktop/DASK Example/data/processed.12.json',\n",
       " 'C:/Users/test.DESKTOP-ODO5P7A/Desktop/DASK Example/data/processed.13.json',\n",
       " 'C:/Users/test.DESKTOP-ODO5P7A/Desktop/DASK Example/data/processed.14.json',\n",
       " 'C:/Users/test.DESKTOP-ODO5P7A/Desktop/DASK Example/data/processed.15.json',\n",
       " 'C:/Users/test.DESKTOP-ODO5P7A/Desktop/DASK Example/data/processed.16.json',\n",
       " 'C:/Users/test.DESKTOP-ODO5P7A/Desktop/DASK Example/data/processed.17.json',\n",
       " 'C:/Users/test.DESKTOP-ODO5P7A/Desktop/DASK Example/data/processed.18.json',\n",
       " 'C:/Users/test.DESKTOP-ODO5P7A/Desktop/DASK Example/data/processed.19.json',\n",
       " 'C:/Users/test.DESKTOP-ODO5P7A/Desktop/DASK Example/data/processed.20.json',\n",
       " 'C:/Users/test.DESKTOP-ODO5P7A/Desktop/DASK Example/data/processed.21.json',\n",
       " 'C:/Users/test.DESKTOP-ODO5P7A/Desktop/DASK Example/data/processed.22.json',\n",
       " 'C:/Users/test.DESKTOP-ODO5P7A/Desktop/DASK Example/data/processed.23.json',\n",
       " 'C:/Users/test.DESKTOP-ODO5P7A/Desktop/DASK Example/data/processed.24.json',\n",
       " 'C:/Users/test.DESKTOP-ODO5P7A/Desktop/DASK Example/data/processed.25.json',\n",
       " 'C:/Users/test.DESKTOP-ODO5P7A/Desktop/DASK Example/data/processed.26.json',\n",
       " 'C:/Users/test.DESKTOP-ODO5P7A/Desktop/DASK Example/data/processed.27.json',\n",
       " 'C:/Users/test.DESKTOP-ODO5P7A/Desktop/DASK Example/data/processed.28.json',\n",
       " 'C:/Users/test.DESKTOP-ODO5P7A/Desktop/DASK Example/data/processed.29.json',\n",
       " 'C:/Users/test.DESKTOP-ODO5P7A/Desktop/DASK Example/data/processed.30.json',\n",
       " 'C:/Users/test.DESKTOP-ODO5P7A/Desktop/DASK Example/data/processed.31.json',\n",
       " 'C:/Users/test.DESKTOP-ODO5P7A/Desktop/DASK Example/data/processed.32.json',\n",
       " 'C:/Users/test.DESKTOP-ODO5P7A/Desktop/DASK Example/data/processed.33.json',\n",
       " 'C:/Users/test.DESKTOP-ODO5P7A/Desktop/DASK Example/data/processed.34.json',\n",
       " 'C:/Users/test.DESKTOP-ODO5P7A/Desktop/DASK Example/data/processed.35.json',\n",
       " 'C:/Users/test.DESKTOP-ODO5P7A/Desktop/DASK Example/data/processed.36.json',\n",
       " 'C:/Users/test.DESKTOP-ODO5P7A/Desktop/DASK Example/data/processed.37.json',\n",
       " 'C:/Users/test.DESKTOP-ODO5P7A/Desktop/DASK Example/data/processed.38.json',\n",
       " 'C:/Users/test.DESKTOP-ODO5P7A/Desktop/DASK Example/data/processed.39.json']"
      ]
     },
     "execution_count": 10,
     "metadata": {},
     "output_type": "execute_result"
    }
   ],
   "source": [
    "(b.filter(lambda record: record['age'] > 30)  # Select records of interest\n",
    "  .map(json.dumps)                            # Convert Python objects to text\n",
    "  .to_textfiles('data/processed.*.json'))     # Write to local disk"
   ]
  },
  {
   "cell_type": "code",
   "execution_count": 11,
   "id": "f3e60c53-6b2f-41d8-91a2-05958105ae4c",
   "metadata": {},
   "outputs": [
    {
     "data": {
      "text/plain": [
       "({'age': 73,\n",
       "  'name': ['Ezekiel', 'Woodard'],\n",
       "  'occupation': 'Yard Manager',\n",
       "  'telephone': '+1-331-365-4996',\n",
       "  'address': {'address': '1177 Arballo Gardens', 'city': 'Passaic'},\n",
       "  'credit-card': {'number': '3439 860587 17055', 'expiration-date': '06/21'}},)"
      ]
     },
     "execution_count": 11,
     "metadata": {},
     "output_type": "execute_result"
    }
   ],
   "source": [
    "b.take(1)"
   ]
  },
  {
   "cell_type": "code",
   "execution_count": 12,
   "id": "f2ba4e50-4242-4db8-935d-900abc67057c",
   "metadata": {},
   "outputs": [
    {
     "data": {
      "text/plain": [
       "({'age': 73,\n",
       "  'occupation': 'Yard Manager',\n",
       "  'telephone': '+1-331-365-4996',\n",
       "  'credit-card-number': '3439 860587 17055',\n",
       "  'credit-card-expiration': '06/21',\n",
       "  'name': 'Ezekiel Woodard',\n",
       "  'street-address': '1177 Arballo Gardens',\n",
       "  'city': 'Passaic'},)"
      ]
     },
     "execution_count": 12,
     "metadata": {},
     "output_type": "execute_result"
    }
   ],
   "source": [
    "def flatten(record):\n",
    "    return {\n",
    "        'age': record['age'],\n",
    "        'occupation': record['occupation'],\n",
    "        'telephone': record['telephone'],\n",
    "        'credit-card-number': record['credit-card']['number'],\n",
    "        'credit-card-expiration': record['credit-card']['expiration-date'],\n",
    "        'name': ' '.join(record['name']),\n",
    "        'street-address': record['address']['address'],\n",
    "        'city': record['address']['city']\n",
    "    }\n",
    "\n",
    "b.map(flatten).take(1)"
   ]
  },
  {
   "cell_type": "code",
   "execution_count": 13,
   "id": "79c1e5e9-c77a-469c-bd3a-a05048aad988",
   "metadata": {},
   "outputs": [
    {
     "data": {
      "text/html": [
       "<div>\n",
       "<style scoped>\n",
       "    .dataframe tbody tr th:only-of-type {\n",
       "        vertical-align: middle;\n",
       "    }\n",
       "\n",
       "    .dataframe tbody tr th {\n",
       "        vertical-align: top;\n",
       "    }\n",
       "\n",
       "    .dataframe thead th {\n",
       "        text-align: right;\n",
       "    }\n",
       "</style>\n",
       "<table border=\"1\" class=\"dataframe\">\n",
       "  <thead>\n",
       "    <tr style=\"text-align: right;\">\n",
       "      <th></th>\n",
       "      <th>age</th>\n",
       "      <th>occupation</th>\n",
       "      <th>telephone</th>\n",
       "      <th>credit-card-number</th>\n",
       "      <th>credit-card-expiration</th>\n",
       "      <th>name</th>\n",
       "      <th>street-address</th>\n",
       "      <th>city</th>\n",
       "    </tr>\n",
       "  </thead>\n",
       "  <tbody>\n",
       "    <tr>\n",
       "      <th>0</th>\n",
       "      <td>73</td>\n",
       "      <td>Yard Manager</td>\n",
       "      <td>+1-331-365-4996</td>\n",
       "      <td>3439 860587 17055</td>\n",
       "      <td>06/21</td>\n",
       "      <td>Ezekiel Woodard</td>\n",
       "      <td>1177 Arballo Gardens</td>\n",
       "      <td>Passaic</td>\n",
       "    </tr>\n",
       "    <tr>\n",
       "      <th>1</th>\n",
       "      <td>2</td>\n",
       "      <td>Pipe Insulator</td>\n",
       "      <td>+15862379883</td>\n",
       "      <td>3794 644559 58638</td>\n",
       "      <td>08/22</td>\n",
       "      <td>Maire Sharp</td>\n",
       "      <td>1151 Rausch Avenue</td>\n",
       "      <td>Jeffersontown</td>\n",
       "    </tr>\n",
       "    <tr>\n",
       "      <th>2</th>\n",
       "      <td>25</td>\n",
       "      <td>Recovery Vehicle Coordinator</td>\n",
       "      <td>+15802338970</td>\n",
       "      <td>5247 5511 6831 4759</td>\n",
       "      <td>10/16</td>\n",
       "      <td>Joette Joseph</td>\n",
       "      <td>1387 Swiss Stravenue</td>\n",
       "      <td>Carpentersville</td>\n",
       "    </tr>\n",
       "    <tr>\n",
       "      <th>3</th>\n",
       "      <td>75</td>\n",
       "      <td>Interior Designer</td>\n",
       "      <td>+1-928-475-0361</td>\n",
       "      <td>5404 2959 7288 5096</td>\n",
       "      <td>12/22</td>\n",
       "      <td>Tiffaney Potts</td>\n",
       "      <td>989 Acorn Manor</td>\n",
       "      <td>Holladay</td>\n",
       "    </tr>\n",
       "    <tr>\n",
       "      <th>4</th>\n",
       "      <td>71</td>\n",
       "      <td>Horse Dealer</td>\n",
       "      <td>+16097756691</td>\n",
       "      <td>3439 265888 08784</td>\n",
       "      <td>05/18</td>\n",
       "      <td>Susann Sheppard</td>\n",
       "      <td>688 Morningside Lake</td>\n",
       "      <td>Lodi</td>\n",
       "    </tr>\n",
       "  </tbody>\n",
       "</table>\n",
       "</div>"
      ],
      "text/plain": [
       "   age                    occupation        telephone   credit-card-number  \\\n",
       "0   73                  Yard Manager  +1-331-365-4996    3439 860587 17055   \n",
       "1    2                Pipe Insulator     +15862379883    3794 644559 58638   \n",
       "2   25  Recovery Vehicle Coordinator     +15802338970  5247 5511 6831 4759   \n",
       "3   75             Interior Designer  +1-928-475-0361  5404 2959 7288 5096   \n",
       "4   71                  Horse Dealer     +16097756691    3439 265888 08784   \n",
       "\n",
       "  credit-card-expiration             name        street-address  \\\n",
       "0                  06/21  Ezekiel Woodard  1177 Arballo Gardens   \n",
       "1                  08/22      Maire Sharp    1151 Rausch Avenue   \n",
       "2                  10/16    Joette Joseph  1387 Swiss Stravenue   \n",
       "3                  12/22   Tiffaney Potts       989 Acorn Manor   \n",
       "4                  05/18  Susann Sheppard  688 Morningside Lake   \n",
       "\n",
       "              city  \n",
       "0          Passaic  \n",
       "1    Jeffersontown  \n",
       "2  Carpentersville  \n",
       "3         Holladay  \n",
       "4             Lodi  "
      ]
     },
     "execution_count": 13,
     "metadata": {},
     "output_type": "execute_result"
    }
   ],
   "source": [
    "df = b.map(flatten).to_dataframe()\n",
    "df.head()"
   ]
  },
  {
   "cell_type": "code",
   "execution_count": 14,
   "id": "7a6acf08-7b86-46e0-95bd-c1b29ed4d315",
   "metadata": {},
   "outputs": [
    {
     "name": "stderr",
     "output_type": "stream",
     "text": [
      "2024-09-10 14:07:24,684 - distributed.scheduler - ERROR - Error during deserialization of the task graph. This frequently\n",
      "occurs if the Scheduler and Client have different environments.\n",
      "For more information, see\n",
      "https://docs.dask.org/en/stable/deployment-considerations.html#consistent-software-environments\n",
      "\n"
     ]
    },
    {
     "ename": "RuntimeError",
     "evalue": "Error during deserialization of the task graph. This frequently\noccurs if the Scheduler and Client have different environments.\nFor more information, see\nhttps://docs.dask.org/en/stable/deployment-considerations.html#consistent-software-environments\n",
     "output_type": "error",
     "traceback": [
      "\u001b[1;31m---------------------------------------------------------------------------\u001b[0m",
      "\u001b[1;31mTypeError\u001b[0m                                 Traceback (most recent call last)",
      "File \u001b[1;32m~\\anaconda3\\Lib\\site-packages\\distributed\\scheduler.py:4682\u001b[0m, in \u001b[0;36mupdate_graph\u001b[1;34m()\u001b[0m\n\u001b[0;32m   4681\u001b[0m \u001b[38;5;28;01mtry\u001b[39;00m:\n\u001b[1;32m-> 4682\u001b[0m     graph \u001b[38;5;241m=\u001b[39m deserialize(graph_header, graph_frames)\u001b[38;5;241m.\u001b[39mdata\n\u001b[0;32m   4683\u001b[0m     \u001b[38;5;28;01mdel\u001b[39;00m graph_header, graph_frames\n",
      "File \u001b[1;32m~\\anaconda3\\Lib\\site-packages\\distributed\\protocol\\serialize.py:449\u001b[0m, in \u001b[0;36mdeserialize\u001b[1;34m()\u001b[0m\n\u001b[0;32m    448\u001b[0m dumps, loads, wants_context \u001b[38;5;241m=\u001b[39m families[name]\n\u001b[1;32m--> 449\u001b[0m \u001b[38;5;28;01mreturn\u001b[39;00m loads(header, frames)\n",
      "File \u001b[1;32m~\\anaconda3\\Lib\\site-packages\\distributed\\protocol\\serialize.py:107\u001b[0m, in \u001b[0;36mpickle_loads\u001b[1;34m()\u001b[0m\n\u001b[0;32m    104\u001b[0m         \u001b[38;5;28;01mreturn\u001b[39;00m mv\n\u001b[0;32m    106\u001b[0m buffers \u001b[38;5;241m=\u001b[39m [\n\u001b[1;32m--> 107\u001b[0m     ensure_writeable_flag(ensure_memoryview(mv), w)\n\u001b[0;32m    108\u001b[0m     \u001b[38;5;28;01mfor\u001b[39;00m mv, w \u001b[38;5;129;01min\u001b[39;00m \u001b[38;5;28mzip\u001b[39m(buffers, header[\u001b[38;5;124m\"\u001b[39m\u001b[38;5;124mwriteable\u001b[39m\u001b[38;5;124m\"\u001b[39m])\n\u001b[0;32m    109\u001b[0m ]\n\u001b[0;32m    111\u001b[0m \u001b[38;5;28;01mreturn\u001b[39;00m pickle\u001b[38;5;241m.\u001b[39mloads(pik, buffers\u001b[38;5;241m=\u001b[39mbuffers)\n",
      "File \u001b[1;32m~\\anaconda3\\Lib\\site-packages\\distributed\\utils.py:1107\u001b[0m, in \u001b[0;36mensure_memoryview\u001b[1;34m()\u001b[0m\n\u001b[0;32m   1106\u001b[0m \u001b[38;5;28;01mif\u001b[39;00m \u001b[38;5;129;01mnot\u001b[39;00m \u001b[38;5;28misinstance\u001b[39m(obj, \u001b[38;5;28mmemoryview\u001b[39m):\n\u001b[1;32m-> 1107\u001b[0m     obj \u001b[38;5;241m=\u001b[39m \u001b[38;5;28mmemoryview\u001b[39m(obj)\n\u001b[0;32m   1109\u001b[0m \u001b[38;5;28;01mif\u001b[39;00m \u001b[38;5;129;01mnot\u001b[39;00m obj\u001b[38;5;241m.\u001b[39mnbytes:\n\u001b[0;32m   1110\u001b[0m     \u001b[38;5;66;03m# Drop `obj` reference to permit freeing underlying data\u001b[39;00m\n",
      "\u001b[1;31mTypeError\u001b[0m: memoryview: a bytes-like object is required, not 'int'",
      "\nThe above exception was the direct cause of the following exception:\n",
      "\u001b[1;31mRuntimeError\u001b[0m                              Traceback (most recent call last)",
      "Cell \u001b[1;32mIn[14], line 1\u001b[0m\n\u001b[1;32m----> 1\u001b[0m df[df\u001b[38;5;241m.\u001b[39mage \u001b[38;5;241m>\u001b[39m \u001b[38;5;241m30\u001b[39m]\u001b[38;5;241m.\u001b[39moccupation\u001b[38;5;241m.\u001b[39mvalue_counts()\u001b[38;5;241m.\u001b[39mnlargest(\u001b[38;5;241m10\u001b[39m)\u001b[38;5;241m.\u001b[39mcompute()\n",
      "File \u001b[1;32m~\\anaconda3\\Lib\\site-packages\\dask_expr\\_collection.py:476\u001b[0m, in \u001b[0;36mFrameBase.compute\u001b[1;34m(self, fuse, **kwargs)\u001b[0m\n\u001b[0;32m    474\u001b[0m     out \u001b[38;5;241m=\u001b[39m out\u001b[38;5;241m.\u001b[39mrepartition(npartitions\u001b[38;5;241m=\u001b[39m\u001b[38;5;241m1\u001b[39m)\n\u001b[0;32m    475\u001b[0m out \u001b[38;5;241m=\u001b[39m out\u001b[38;5;241m.\u001b[39moptimize(fuse\u001b[38;5;241m=\u001b[39mfuse)\n\u001b[1;32m--> 476\u001b[0m \u001b[38;5;28;01mreturn\u001b[39;00m DaskMethodsMixin\u001b[38;5;241m.\u001b[39mcompute(out, \u001b[38;5;241m*\u001b[39m\u001b[38;5;241m*\u001b[39mkwargs)\n",
      "File \u001b[1;32m~\\anaconda3\\Lib\\site-packages\\dask\\base.py:375\u001b[0m, in \u001b[0;36mDaskMethodsMixin.compute\u001b[1;34m(self, **kwargs)\u001b[0m\n\u001b[0;32m    351\u001b[0m \u001b[38;5;28;01mdef\u001b[39;00m \u001b[38;5;21mcompute\u001b[39m(\u001b[38;5;28mself\u001b[39m, \u001b[38;5;241m*\u001b[39m\u001b[38;5;241m*\u001b[39mkwargs):\n\u001b[0;32m    352\u001b[0m \u001b[38;5;250m    \u001b[39m\u001b[38;5;124;03m\"\"\"Compute this dask collection\u001b[39;00m\n\u001b[0;32m    353\u001b[0m \n\u001b[0;32m    354\u001b[0m \u001b[38;5;124;03m    This turns a lazy Dask collection into its in-memory equivalent.\u001b[39;00m\n\u001b[1;32m   (...)\u001b[0m\n\u001b[0;32m    373\u001b[0m \u001b[38;5;124;03m    dask.compute\u001b[39;00m\n\u001b[0;32m    374\u001b[0m \u001b[38;5;124;03m    \"\"\"\u001b[39;00m\n\u001b[1;32m--> 375\u001b[0m     (result,) \u001b[38;5;241m=\u001b[39m compute(\u001b[38;5;28mself\u001b[39m, traverse\u001b[38;5;241m=\u001b[39m\u001b[38;5;28;01mFalse\u001b[39;00m, \u001b[38;5;241m*\u001b[39m\u001b[38;5;241m*\u001b[39mkwargs)\n\u001b[0;32m    376\u001b[0m     \u001b[38;5;28;01mreturn\u001b[39;00m result\n",
      "File \u001b[1;32m~\\anaconda3\\Lib\\site-packages\\dask\\base.py:661\u001b[0m, in \u001b[0;36mcompute\u001b[1;34m(traverse, optimize_graph, scheduler, get, *args, **kwargs)\u001b[0m\n\u001b[0;32m    658\u001b[0m     postcomputes\u001b[38;5;241m.\u001b[39mappend(x\u001b[38;5;241m.\u001b[39m__dask_postcompute__())\n\u001b[0;32m    660\u001b[0m \u001b[38;5;28;01mwith\u001b[39;00m shorten_traceback():\n\u001b[1;32m--> 661\u001b[0m     results \u001b[38;5;241m=\u001b[39m schedule(dsk, keys, \u001b[38;5;241m*\u001b[39m\u001b[38;5;241m*\u001b[39mkwargs)\n\u001b[0;32m    663\u001b[0m \u001b[38;5;28;01mreturn\u001b[39;00m repack([f(r, \u001b[38;5;241m*\u001b[39ma) \u001b[38;5;28;01mfor\u001b[39;00m r, (f, a) \u001b[38;5;129;01min\u001b[39;00m \u001b[38;5;28mzip\u001b[39m(results, postcomputes)])\n",
      "File \u001b[1;32m~\\anaconda3\\Lib\\site-packages\\distributed\\client.py:2232\u001b[0m, in \u001b[0;36mClient._gather\u001b[1;34m(self, futures, errors, direct, local_worker)\u001b[0m\n\u001b[0;32m   2230\u001b[0m         exc \u001b[38;5;241m=\u001b[39m CancelledError(key)\n\u001b[0;32m   2231\u001b[0m     \u001b[38;5;28;01melse\u001b[39;00m:\n\u001b[1;32m-> 2232\u001b[0m         \u001b[38;5;28;01mraise\u001b[39;00m exception\u001b[38;5;241m.\u001b[39mwith_traceback(traceback)\n\u001b[0;32m   2233\u001b[0m     \u001b[38;5;28;01mraise\u001b[39;00m exc\n\u001b[0;32m   2234\u001b[0m \u001b[38;5;28;01mif\u001b[39;00m errors \u001b[38;5;241m==\u001b[39m \u001b[38;5;124m\"\u001b[39m\u001b[38;5;124mskip\u001b[39m\u001b[38;5;124m\"\u001b[39m:\n",
      "\u001b[1;31mRuntimeError\u001b[0m: Error during deserialization of the task graph. This frequently\noccurs if the Scheduler and Client have different environments.\nFor more information, see\nhttps://docs.dask.org/en/stable/deployment-considerations.html#consistent-software-environments\n"
     ]
    }
   ],
   "source": [
    "df[df.age > 30].occupation.value_counts().nlargest(10).compute()"
   ]
  },
  {
   "cell_type": "code",
   "execution_count": null,
   "id": "78768d03-d0f2-46e2-a43e-dea086ada9f0",
   "metadata": {},
   "outputs": [],
   "source": []
  }
 ],
 "metadata": {
  "kernelspec": {
   "display_name": "Python 3 (ipykernel)",
   "language": "python",
   "name": "python3"
  },
  "language_info": {
   "codemirror_mode": {
    "name": "ipython",
    "version": 3
   },
   "file_extension": ".py",
   "mimetype": "text/x-python",
   "name": "python",
   "nbconvert_exporter": "python",
   "pygments_lexer": "ipython3",
   "version": "3.12.4"
  }
 },
 "nbformat": 4,
 "nbformat_minor": 5
}
