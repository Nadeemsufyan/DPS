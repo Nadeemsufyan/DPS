{
 "cells": [
  {
   "cell_type": "code",
   "execution_count": 1,
   "id": "b05fc584-fef8-4457-a9c1-27afa60a2330",
   "metadata": {},
   "outputs": [],
   "source": [
    "import dask\n",
    "dask.config.set({'distributed.scheduler.allowed-failures': 100});"
   ]
  },
  {
   "cell_type": "code",
   "execution_count": 3,
   "id": "b7402518-f486-40bb-bab8-65e96098c2ab",
   "metadata": {},
   "outputs": [
    {
     "ename": "ModuleNotFoundError",
     "evalue": "No module named 'LocalCluster'",
     "output_type": "error",
     "traceback": [
      "\u001b[1;31m---------------------------------------------------------------------------\u001b[0m",
      "\u001b[1;31mModuleNotFoundError\u001b[0m                       Traceback (most recent call last)",
      "Cell \u001b[1;32mIn[3], line 1\u001b[0m\n\u001b[1;32m----> 1\u001b[0m \u001b[38;5;28;01mimport\u001b[39;00m \u001b[38;5;21;01mdask\u001b[39;00m\u001b[38;5;21;01m.\u001b[39;00m\u001b[38;5;21;01mdistributed\u001b[39;00m \u001b[38;5;28;01mas\u001b[39;00m  \u001b[38;5;21;01mClient\u001b[39;00m\u001b[38;5;241m,\u001b[39m \u001b[38;5;21;01mLocalCluster\u001b[39;00m\n\u001b[0;32m      3\u001b[0m \u001b[38;5;28;01mfrom\u001b[39;00m \u001b[38;5;21;01mdask\u001b[39;00m \u001b[38;5;28;01mimport\u001b[39;00m bag \u001b[38;5;28;01mas\u001b[39;00m db\n\u001b[0;32m      4\u001b[0m \u001b[38;5;28;01mimport\u001b[39;00m \u001b[38;5;21;01mos\u001b[39;00m\n",
      "\u001b[1;31mModuleNotFoundError\u001b[0m: No module named 'LocalCluster'"
     ]
    }
   ],
   "source": [
    "import dask.distributed as  Client, LocalCluster\n",
    "    \n",
    "from dask import bag as db\n",
    "import os\n",
    "import random\n",
    "from  time import sleep"
   ]
  },
  {
   "cell_type": "code",
   "execution_count": 19,
   "id": "a28cd63a-b8d9-481f-8796-99f71d24de9c",
   "metadata": {},
   "outputs": [
    {
     "ename": "NameError",
     "evalue": "name 'LocalCluster' is not defined",
     "output_type": "error",
     "traceback": [
      "\u001b[1;31m---------------------------------------------------------------------------\u001b[0m",
      "\u001b[1;31mNameError\u001b[0m                                 Traceback (most recent call last)",
      "Cell \u001b[1;32mIn[19], line 1\u001b[0m\n\u001b[1;32m----> 1\u001b[0m cluster \u001b[38;5;241m=\u001b[39m LocalCluster(threads_per_worker\u001b[38;5;241m=\u001b[39m\u001b[38;5;241m1\u001b[39m, n_workers\u001b[38;5;241m=\u001b[39m\u001b[38;5;241m4\u001b[39m, memory_limit\u001b[38;5;241m=\u001b[39m\u001b[38;5;241m400e6\u001b[39m)\n\u001b[0;32m      2\u001b[0m client \u001b[38;5;241m=\u001b[39m Client(cluster)\n\u001b[0;32m      3\u001b[0m client\n",
      "\u001b[1;31mNameError\u001b[0m: name 'LocalCluster' is not defined"
     ]
    }
   ],
   "source": [
    "cluster = LocalCluster(threads_per_worker=1, n_workers=4, memory_limit=400e6)\n",
    "client = Client(cluster)\n",
    "client"
   ]
  },
  {
   "cell_type": "code",
   "execution_count": null,
   "id": "d50190b4-913c-4f2b-ae81-4e6ff086b43c",
   "metadata": {},
   "outputs": [],
   "source": [
    "def multiply_by_two(x):\n",
    "    sleep(0.02)\n",
    "    return 2 * x"
   ]
  },
  {
   "cell_type": "code",
   "execution_count": null,
   "id": "aadf78c4-d70e-47e3-ab4b-12e1857628f2",
   "metadata": {},
   "outputs": [],
   "source": [
    "N = 400\n",
    "x = db.from_sequence(range(N), npartitions=N // 2)\n",
    "mults = x.map(multiply_by_two)\n",
    "summed = mults.sum()"
   ]
  },
  {
   "cell_type": "code",
   "execution_count": null,
   "id": "fe446010-e9a2-407a-b4fc-d1925b7d6971",
   "metadata": {},
   "outputs": [],
   "source": [
    "all_current_workers = [w.pid for w in cluster.scheduler.workers.values()]\n",
    "non_preemptible_workers = all_current_workers[:2]"
   ]
  },
  {
   "cell_type": "code",
   "execution_count": null,
   "id": "92f7a074-42fe-4756-8801-fb2239ac6bca",
   "metadata": {},
   "outputs": [],
   "source": [
    "def kill_a_worker():\n",
    "    preemptible_workers = [\n",
    "        w.pid for w in cluster.scheduler.workers.values()\n",
    "        if w.pid not in non_preemptible_workers]\n",
    "    if preemptible_workers:\n",
    "        os.kill(random.choice(preemptible_workers), 15)"
   ]
  },
  {
   "cell_type": "code",
   "execution_count": null,
   "id": "c1ad5923-e1bc-4ba2-8902-0cdb71803f6e",
   "metadata": {},
   "outputs": [],
   "source": [
    "summed = client.compute(summed)\n",
    "while no summed.done():\n",
    "    kill_a_worker()\n",
    "    sleep(3.0)"
   ]
  },
  {
   "cell_type": "code",
   "execution_count": null,
   "id": "b37918d5-b324-460e-af89-5f4053b06d93",
   "metadata": {},
   "outputs": [],
   "source": [
    "print(f\"`sum(range({N}))` on cluster: {summed.result()}\\t(should be {N * (N-1)})\")"
   ]
  },
  {
   "cell_type": "code",
   "execution_count": null,
   "id": "657cd73b-576b-4cb0-ba3f-f85a8c4098cf",
   "metadata": {},
   "outputs": [],
   "source": []
  },
  {
   "cell_type": "code",
   "execution_count": null,
   "id": "8638e35c-be02-45a5-a001-8546acbb7575",
   "metadata": {},
   "outputs": [],
   "source": []
  },
  {
   "cell_type": "code",
   "execution_count": null,
   "id": "3fc3760c-1f74-4604-b031-1878a0d41d12",
   "metadata": {},
   "outputs": [],
   "source": []
  }
 ],
 "metadata": {
  "kernelspec": {
   "display_name": "Python 3 (ipykernel)",
   "language": "python",
   "name": "python3"
  },
  "language_info": {
   "codemirror_mode": {
    "name": "ipython",
    "version": 3
   },
   "file_extension": ".py",
   "mimetype": "text/x-python",
   "name": "python",
   "nbconvert_exporter": "python",
   "pygments_lexer": "ipython3",
   "version": "3.12.4"
  }
 },
 "nbformat": 4,
 "nbformat_minor": 5
}
